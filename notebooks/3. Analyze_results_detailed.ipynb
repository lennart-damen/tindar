{
 "cells": [
  {
   "cell_type": "markdown",
   "metadata": {},
   "source": [
    "# Detailed analysis for single n"
   ]
  },
  {
   "cell_type": "code",
   "execution_count": 1,
   "metadata": {},
   "outputs": [],
   "source": [
    "import pandas as pd\n",
    "import matplotlib.pyplot as plt\n",
    "import seaborn as sns"
   ]
  },
  {
   "cell_type": "code",
   "execution_count": 2,
   "metadata": {},
   "outputs": [
    {
     "name": "stdout",
     "output_type": "stream",
     "text": [
      "(200, 9)\n",
      "[50]\n"
     ]
    },
    {
     "data": {
      "text/html": [
       "<div>\n",
       "<style scoped>\n",
       "    .dataframe tbody tr th:only-of-type {\n",
       "        vertical-align: middle;\n",
       "    }\n",
       "\n",
       "    .dataframe tbody tr th {\n",
       "        vertical-align: top;\n",
       "    }\n",
       "\n",
       "    .dataframe thead th {\n",
       "        text-align: right;\n",
       "    }\n",
       "</style>\n",
       "<table border=\"1\" class=\"dataframe\">\n",
       "  <thead>\n",
       "    <tr style=\"text-align: right;\">\n",
       "      <th></th>\n",
       "      <th>experiment_id</th>\n",
       "      <th>tindar_id</th>\n",
       "      <th>n</th>\n",
       "      <th>connectedness</th>\n",
       "      <th>p</th>\n",
       "      <th>solver</th>\n",
       "      <th>status</th>\n",
       "      <th>objective_value</th>\n",
       "      <th>time</th>\n",
       "    </tr>\n",
       "  </thead>\n",
       "  <tbody>\n",
       "    <tr>\n",
       "      <th>0</th>\n",
       "      <td>detail_n_50_conn_4</td>\n",
       "      <td>0</td>\n",
       "      <td>50</td>\n",
       "      <td>4</td>\n",
       "      <td>0.34625</td>\n",
       "      <td>heuristic</td>\n",
       "      <td>Solved (optimal unsure)</td>\n",
       "      <td>44</td>\n",
       "      <td>0.004605</td>\n",
       "    </tr>\n",
       "    <tr>\n",
       "      <th>1</th>\n",
       "      <td>detail_n_50_conn_4</td>\n",
       "      <td>1</td>\n",
       "      <td>50</td>\n",
       "      <td>4</td>\n",
       "      <td>0.34625</td>\n",
       "      <td>heuristic</td>\n",
       "      <td>Solved (optimal unsure)</td>\n",
       "      <td>44</td>\n",
       "      <td>0.002683</td>\n",
       "    </tr>\n",
       "    <tr>\n",
       "      <th>2</th>\n",
       "      <td>detail_n_50_conn_4</td>\n",
       "      <td>2</td>\n",
       "      <td>50</td>\n",
       "      <td>4</td>\n",
       "      <td>0.34625</td>\n",
       "      <td>heuristic</td>\n",
       "      <td>Solved (optimal unsure)</td>\n",
       "      <td>46</td>\n",
       "      <td>0.002667</td>\n",
       "    </tr>\n",
       "    <tr>\n",
       "      <th>3</th>\n",
       "      <td>detail_n_50_conn_4</td>\n",
       "      <td>3</td>\n",
       "      <td>50</td>\n",
       "      <td>4</td>\n",
       "      <td>0.34625</td>\n",
       "      <td>heuristic</td>\n",
       "      <td>Solved (optimal unsure)</td>\n",
       "      <td>44</td>\n",
       "      <td>0.001401</td>\n",
       "    </tr>\n",
       "    <tr>\n",
       "      <th>4</th>\n",
       "      <td>detail_n_50_conn_4</td>\n",
       "      <td>4</td>\n",
       "      <td>50</td>\n",
       "      <td>4</td>\n",
       "      <td>0.34625</td>\n",
       "      <td>heuristic</td>\n",
       "      <td>Solved (optimal unsure)</td>\n",
       "      <td>42</td>\n",
       "      <td>0.001674</td>\n",
       "    </tr>\n",
       "  </tbody>\n",
       "</table>\n",
       "</div>"
      ],
      "text/plain": [
       "        experiment_id  tindar_id   n  connectedness        p     solver  \\\n",
       "0  detail_n_50_conn_4          0  50              4  0.34625  heuristic   \n",
       "1  detail_n_50_conn_4          1  50              4  0.34625  heuristic   \n",
       "2  detail_n_50_conn_4          2  50              4  0.34625  heuristic   \n",
       "3  detail_n_50_conn_4          3  50              4  0.34625  heuristic   \n",
       "4  detail_n_50_conn_4          4  50              4  0.34625  heuristic   \n",
       "\n",
       "                    status  objective_value      time  \n",
       "0  Solved (optimal unsure)               44  0.004605  \n",
       "1  Solved (optimal unsure)               44  0.002683  \n",
       "2  Solved (optimal unsure)               46  0.002667  \n",
       "3  Solved (optimal unsure)               44  0.001401  \n",
       "4  Solved (optimal unsure)               42  0.001674  "
      ]
     },
     "execution_count": 2,
     "metadata": {},
     "output_type": "execute_result"
    }
   ],
   "source": [
    "experiment_id = \"detail_n_50_conn_4\"  # full_run\n",
    "filename_results = f\"results_experiment_{experiment_id}.json\"\n",
    "\n",
    "df_results = pd.read_json(f\"../data/{filename_results}\")\n",
    "print(df_results.shape)\n",
    "print(df_results[\"n\"].unique())\n",
    "df_results.head()"
   ]
  },
  {
   "cell_type": "code",
   "execution_count": 3,
   "metadata": {},
   "outputs": [],
   "source": [
    "# df_results = df_results[df_results[\"n\"] == 500]"
   ]
  },
  {
   "cell_type": "code",
   "execution_count": 4,
   "metadata": {},
   "outputs": [
    {
     "data": {
      "text/html": [
       "<div>\n",
       "<style scoped>\n",
       "    .dataframe tbody tr th:only-of-type {\n",
       "        vertical-align: middle;\n",
       "    }\n",
       "\n",
       "    .dataframe tbody tr th {\n",
       "        vertical-align: top;\n",
       "    }\n",
       "\n",
       "    .dataframe thead th {\n",
       "        text-align: right;\n",
       "    }\n",
       "</style>\n",
       "<table border=\"1\" class=\"dataframe\">\n",
       "  <thead>\n",
       "    <tr style=\"text-align: right;\">\n",
       "      <th></th>\n",
       "      <th>objective_difference_abs</th>\n",
       "      <th>objective_difference_perc</th>\n",
       "      <th>solvetime_difference_abs</th>\n",
       "      <th>solvetime_difference_perc</th>\n",
       "      <th>n</th>\n",
       "      <th>connectedness</th>\n",
       "    </tr>\n",
       "    <tr>\n",
       "      <th>tindar_id</th>\n",
       "      <th></th>\n",
       "      <th></th>\n",
       "      <th></th>\n",
       "      <th></th>\n",
       "      <th></th>\n",
       "      <th></th>\n",
       "    </tr>\n",
       "  </thead>\n",
       "  <tbody>\n",
       "    <tr>\n",
       "      <th>0</th>\n",
       "      <td>6.0</td>\n",
       "      <td>0.120000</td>\n",
       "      <td>0.371709</td>\n",
       "      <td>80.713352</td>\n",
       "      <td>50.0</td>\n",
       "      <td>4.0</td>\n",
       "    </tr>\n",
       "    <tr>\n",
       "      <th>1</th>\n",
       "      <td>4.0</td>\n",
       "      <td>0.083333</td>\n",
       "      <td>0.422105</td>\n",
       "      <td>157.319928</td>\n",
       "      <td>50.0</td>\n",
       "      <td>4.0</td>\n",
       "    </tr>\n",
       "    <tr>\n",
       "      <th>2</th>\n",
       "      <td>4.0</td>\n",
       "      <td>0.080000</td>\n",
       "      <td>0.417945</td>\n",
       "      <td>156.715587</td>\n",
       "      <td>50.0</td>\n",
       "      <td>4.0</td>\n",
       "    </tr>\n",
       "    <tr>\n",
       "      <th>3</th>\n",
       "      <td>6.0</td>\n",
       "      <td>0.120000</td>\n",
       "      <td>0.414460</td>\n",
       "      <td>295.895267</td>\n",
       "      <td>50.0</td>\n",
       "      <td>4.0</td>\n",
       "    </tr>\n",
       "    <tr>\n",
       "      <th>4</th>\n",
       "      <td>8.0</td>\n",
       "      <td>0.160000</td>\n",
       "      <td>0.422849</td>\n",
       "      <td>252.613119</td>\n",
       "      <td>50.0</td>\n",
       "      <td>4.0</td>\n",
       "    </tr>\n",
       "  </tbody>\n",
       "</table>\n",
       "</div>"
      ],
      "text/plain": [
       "           objective_difference_abs  objective_difference_perc  \\\n",
       "tindar_id                                                        \n",
       "0                               6.0                   0.120000   \n",
       "1                               4.0                   0.083333   \n",
       "2                               4.0                   0.080000   \n",
       "3                               6.0                   0.120000   \n",
       "4                               8.0                   0.160000   \n",
       "\n",
       "           solvetime_difference_abs  solvetime_difference_perc     n  \\\n",
       "tindar_id                                                              \n",
       "0                          0.371709                  80.713352  50.0   \n",
       "1                          0.422105                 157.319928  50.0   \n",
       "2                          0.417945                 156.715587  50.0   \n",
       "3                          0.414460                 295.895267  50.0   \n",
       "4                          0.422849                 252.613119  50.0   \n",
       "\n",
       "           connectedness  \n",
       "tindar_id                 \n",
       "0                    4.0  \n",
       "1                    4.0  \n",
       "2                    4.0  \n",
       "3                    4.0  \n",
       "4                    4.0  "
      ]
     },
     "execution_count": 4,
     "metadata": {},
     "output_type": "execute_result"
    }
   ],
   "source": [
    "def solver_difference(df_sub):\n",
    "    opt = df_sub.loc[df_sub[\"solver\"] == \"pulp\"]\n",
    "    heur = df_sub.loc[df_sub[\"solver\"] == \"heuristic\"]\n",
    "    \n",
    "    opt_obj = opt[\"objective_value\"].values[0]\n",
    "    heur_obj = heur[\"objective_value\"].values[0]\n",
    "\n",
    "    opt_solvetime = opt[\"time\"].values[0]\n",
    "    heur_solvetime = heur[\"time\"].values[0]\n",
    "    \n",
    "    if opt_obj == 0:\n",
    "        perc_difference = 0\n",
    "    else:\n",
    "        perc_difference = (opt_obj - heur_obj)/opt_obj\n",
    "    \n",
    "    return pd.Series({\n",
    "        \"objective_difference_abs\": opt_obj - heur_obj,\n",
    "        \"objective_difference_perc\": perc_difference,\n",
    "        \"solvetime_difference_abs\": opt_solvetime - heur_solvetime,\n",
    "        \"solvetime_difference_perc\": (opt_solvetime - heur_solvetime)/heur_solvetime,\n",
    "        \"n\": df_sub[\"n\"].values[0],\n",
    "        \"connectedness\": df_sub[\"connectedness\"].values[0],\n",
    "    })\n",
    "\n",
    "df_solver_difference = df_results.groupby([\"tindar_id\"]).apply(solver_difference)\n",
    "df_solver_difference.head()"
   ]
  },
  {
   "cell_type": "code",
   "execution_count": 5,
   "metadata": {},
   "outputs": [
    {
     "name": "stdout",
     "output_type": "stream",
     "text": [
      "6.0    40\n",
      "4.0    31\n",
      "8.0    22\n",
      "2.0     6\n",
      "0.0     1\n",
      "Name: objective_difference_abs, dtype: int64\n",
      "count    100.000000\n",
      "mean       5.520000\n",
      "std        1.800561\n",
      "min        0.000000\n",
      "25%        4.000000\n",
      "50%        6.000000\n",
      "75%        6.000000\n",
      "max        8.000000\n",
      "Name: objective_difference_abs, dtype: float64\n"
     ]
    }
   ],
   "source": [
    "var_x = \"objective_difference_abs\"\n",
    "x = df_solver_difference[var_x]\n",
    "\n",
    "print(x.value_counts())\n",
    "print(x.describe())"
   ]
  },
  {
   "cell_type": "code",
   "execution_count": 6,
   "metadata": {},
   "outputs": [
    {
     "name": "stdout",
     "output_type": "stream",
     "text": [
      "0.120000    38\n",
      "0.080000    26\n",
      "0.160000    21\n",
      "0.083333     5\n",
      "0.040000     5\n",
      "0.125000     2\n",
      "0.166667     1\n",
      "0.041667     1\n",
      "0.000000     1\n",
      "Name: objective_difference_perc, dtype: int64\n",
      "count    100.000000\n",
      "mean       0.110750\n",
      "std        0.035976\n",
      "min        0.000000\n",
      "25%        0.080000\n",
      "50%        0.120000\n",
      "75%        0.120000\n",
      "max        0.166667\n",
      "Name: objective_difference_perc, dtype: float64\n"
     ]
    },
    {
     "data": {
      "image/png": "[encoded data removed]",
      "text/plain": [
       "<Figure size 432x288 with 1 Axes>"
      ]
     },
     "metadata": {
      "needs_background": "light"
     },
     "output_type": "display_data"
    }
   ],
   "source": [
    "var_x = \"objective_difference_perc\"\n",
    "x = df_solver_difference[var_x]\n",
    "\n",
    "print(x.value_counts())\n",
    "print(x.describe())\n",
    "\n",
    "plt.figure()\n",
    "plt.title(f\"Histogram of relative objective value difference\\n((pulp-heuristic)/pulp) for experiment {experiment_id}\")\n",
    "sns.distplot(x, bins=9, kde=False, rug=True)\n",
    "plt.savefig(f\"../documentation/figures/histogram_{var_x}_{experiment_id}\")"
   ]
  },
  {
   "cell_type": "code",
   "execution_count": 7,
   "metadata": {},
   "outputs": [
    {
     "name": "stdout",
     "output_type": "stream",
     "text": [
      "count    100.000000\n",
      "mean       0.495873\n",
      "std        0.115310\n",
      "min        0.358459\n",
      "25%        0.402287\n",
      "50%        0.452198\n",
      "75%        0.589894\n",
      "max        0.955207\n",
      "Name: solvetime_difference_abs, dtype: float64\n"
     ]
    },
    {
     "data": {
      "image/png": "[encoded data removed]",
      "text/plain": [
       "<Figure size 432x288 with 1 Axes>"
      ]
     },
     "metadata": {
      "needs_background": "light"
     },
     "output_type": "display_data"
    }
   ],
   "source": [
    "var_x = \"solvetime_difference_abs\"\n",
    "x = df_solver_difference[var_x]\n",
    "\n",
    "print(x.describe())\n",
    "\n",
    "plt.figure()\n",
    "plt.title(f\"Histogram of absolute solvetime difference\\n((heuristic-pulp)/heuristic) for experiment {experiment_id}\")\n",
    "sns.distplot(x, bins=20, rug=True)\n",
    "plt.savefig(f\"../documentation/figures/histogram_{var_x}_{experiment_id}\")"
   ]
  },
  {
   "cell_type": "code",
   "execution_count": 8,
   "metadata": {},
   "outputs": [
    {
     "name": "stdout",
     "output_type": "stream",
     "text": [
      "count    100.000000\n",
      "mean     242.504436\n",
      "std       98.851100\n",
      "min       78.464467\n",
      "25%      172.596043\n",
      "50%      235.924268\n",
      "75%      294.609935\n",
      "max      491.650722\n",
      "Name: solvetime_difference_perc, dtype: float64\n"
     ]
    },
    {
     "data": {
      "image/png": "[encoded data removed]",
      "text/plain": [
       "<Figure size 432x288 with 1 Axes>"
      ]
     },
     "metadata": {
      "needs_background": "light"
     },
     "output_type": "display_data"
    }
   ],
   "source": [
    "var_x = \"solvetime_difference_perc\"\n",
    "x = df_solver_difference[var_x]\n",
    "\n",
    "print(x.describe())\n",
    "\n",
    "plt.figure()\n",
    "plt.title(f\"Histogram of relative solvetime difference\\n((heuristic-pulp)/heuristic) for experiment {experiment_id}\")\n",
    "sns.distplot(x, bins=20, rug=True)\n",
    "plt.savefig(f\"../documentation/figures/histogram_{var_x}_{experiment_id}\")"
   ]
  },
  {
   "cell_type": "code",
   "execution_count": null,
   "metadata": {},
   "outputs": [],
   "source": []
  }
 ],
 "metadata": {
  "kernelspec": {
   "display_name": "env",
   "language": "python",
   "name": "env"
  },
  "language_info": {
   "codemirror_mode": {
    "name": "ipython",
    "version": 3
   },
   "file_extension": ".py",
   "mimetype": "text/x-python",
   "name": "python",
   "nbconvert_exporter": "python",
   "pygments_lexer": "ipython3",
   "version": "3.7.7"
  }
 },
 "nbformat": 4,
 "nbformat_minor": 4
}
