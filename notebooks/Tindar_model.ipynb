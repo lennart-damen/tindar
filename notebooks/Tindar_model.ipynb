{
 "cells": [
  {
   "cell_type": "markdown",
   "metadata": {},
   "source": [
    "# Tindar - The Pairing Problem"
   ]
  },
  {
   "cell_type": "markdown",
   "metadata": {},
   "source": [
    "Welcome to Tindar: the new app for dating Data Scientists! Through your app, your users have labeled all the other users as either 'interested' (1) or 'not interested' (0). Your job is to make your community happy by pairing up as many users as you can.\n",
    "\n",
    "Rules:\n",
    "- pairing can only happen if both Data Scientists marked each other as 'interested'\n",
    "- your app is conservative, so no threesomes, only pairs\n",
    "- lonely love doesn't count, you can not pair someone with himself\n",
    "\n",
    "Hints:\n",
    "- it's okay if some Data Scientists stay lonely. Most likely, there is not solution that matches everyone.\n",
    "- think of adjacency matrix\n",
    "\n",
    "Assumption:\n",
    "- for simplicity, let's assume that the labels are symmetric. If person A marked person B as interesting, then the reverse holds as well\n"
   ]
  },
  {
   "cell_type": "markdown",
   "metadata": {},
   "source": [
    "## Solution\n",
    "\n",
    "This program can be expressed as a binary linear problem:\n",
    "\"description here\"\n",
    "\n",
    "The nice thing about these problems is that they can be solved optimally (under certain conditions), yielding an uncontestable solution!\n",
    "\n",
    "You don't have to solve these problems by hand (e.g. by solving KKT conditions and checking some assumptions): all you need is to code them, and let the computer do the work! In python, there is a nice library called PuLP: https://coin-or.github.io/pulp/. We also use numpy to make our lives a bit easier.\n",
    "\n",
    "Let the love games commence!"
   ]
  },
  {
   "cell_type": "code",
   "execution_count": 1,
   "metadata": {},
   "outputs": [],
   "source": [
    "from pulp import *\n",
    "import numpy as np"
   ]
  },
  {
   "cell_type": "code",
   "execution_count": 2,
   "metadata": {},
   "outputs": [
    {
     "data": {
      "text/plain": [
       "array([[0, 1, 1, 1],\n",
       "       [1, 0, 0, 0],\n",
       "       [1, 0, 0, 1],\n",
       "       [1, 0, 1, 0]])"
      ]
     },
     "execution_count": 2,
     "metadata": {},
     "output_type": "execute_result"
    }
   ],
   "source": [
    "# Example 1\n",
    "A = np.array([\n",
    "    [0, 1, 1, 1],\n",
    "    [1, 0, 0, 0],\n",
    "    [1, 0, 0, 1],\n",
    "    [1, 0, 1, 0]\n",
    "])\n",
    "\n",
    "for i in range(A.shape[0]):\n",
    "    A[i, i] = 0\n",
    "\n",
    "A\n",
    "\n",
    "# Hint: Draw the graph, and find the optimal solution for yourself.\n",
    "# Is this solution unique?"
   ]
  },
  {
   "cell_type": "code",
   "execution_count": 3,
   "metadata": {},
   "outputs": [],
   "source": [
    "m, n = A.shape\n",
    "if m != n:\n",
    "    raise ValueError(f\"A is not square: A.shape = {A.shape}\")"
   ]
  },
  {
   "cell_type": "code",
   "execution_count": 4,
   "metadata": {},
   "outputs": [
    {
     "name": "stdout",
     "output_type": "stream",
     "text": [
      "['x_00', 'x_01', 'x_02', 'x_03', 'x_10', 'x_11', 'x_12', 'x_13', 'x_20', 'x_21', 'x_22', 'x_23', 'x_30', 'x_31', 'x_32', 'x_33']\n"
     ]
    }
   ],
   "source": [
    "x_names = [f\"x_{i}{j}\" for i in range(m) for j in range(n)]\n",
    "print(x_names)"
   ]
  },
  {
   "cell_type": "code",
   "execution_count": 5,
   "metadata": {},
   "outputs": [
    {
     "name": "stdout",
     "output_type": "stream",
     "text": [
      "x_00\n",
      "<class 'pulp.pulp.LpVariable'>\n"
     ]
    }
   ],
   "source": [
    "x = [LpVariable(name=x_name, cat=\"Binary\") for x_name in x_names]\n",
    "print(x[0])\n",
    "print(type(x[0]))"
   ]
  },
  {
   "cell_type": "code",
   "execution_count": 6,
   "metadata": {},
   "outputs": [
    {
     "data": {
      "text/plain": [
       "array([[x_00, x_01, x_02, x_03],\n",
       "       [x_10, x_11, x_12, x_13],\n",
       "       [x_20, x_21, x_22, x_23],\n",
       "       [x_30, x_31, x_32, x_33]], dtype=object)"
      ]
     },
     "execution_count": 6,
     "metadata": {},
     "output_type": "execute_result"
    }
   ],
   "source": [
    "x_np = np.array(x).reshape((n, n))\n",
    "x_np"
   ]
  },
  {
   "cell_type": "markdown",
   "metadata": {},
   "source": [
    "## symmetry constraints"
   ]
  },
  {
   "cell_type": "code",
   "execution_count": 7,
   "metadata": {},
   "outputs": [],
   "source": [
    "# lhs: Left Hand Side\n",
    "lhs_symmetry = [\n",
    "    LpAffineExpression([(x_np[i,j], 1), (x_np[j,i], -1)], name=f\"lhs_sym_{i}{j}\")\n",
    "    for i in range(n) for j in range(i+1, n)\n",
    "]"
   ]
  },
  {
   "cell_type": "code",
   "execution_count": 8,
   "metadata": {},
   "outputs": [],
   "source": [
    "constraints_symmetry = [\n",
    "    LpConstraint(\n",
    "        e=lhs_s,\n",
    "        sense=0,\n",
    "        name=f\"constraint_sym_{lhs_s.name[-2:]}\",\n",
    "        rhs=0\n",
    "    )\n",
    "    for lhs_s in lhs_symmetry\n",
    "]\n",
    "\n",
    "if len(constraints_symmetry) != (n**2-n)/2:\n",
    "    raise Exception(\n",
    "        \"Symmetry constraints not constructed right:\"\n",
    "        f\"A.shape = {A.shape}, len(constraints_symmetry) should be \"\n",
    "        f\"{(n**2-n)/2}, actually is {len(constraints_symmetry)}\"\n",
    "    )"
   ]
  },
  {
   "cell_type": "markdown",
   "metadata": {},
   "source": [
    "## only assignable if student likes the other"
   ]
  },
  {
   "cell_type": "code",
   "execution_count": 9,
   "metadata": {},
   "outputs": [],
   "source": [
    "lhs_like = [\n",
    "    LpAffineExpression([(x_np[i, j], 1)], name=f\"lhs_like_{i}{j}\")\n",
    "    for i in range(n) for j in range(n)\n",
    "]"
   ]
  },
  {
   "cell_type": "code",
   "execution_count": 10,
   "metadata": {},
   "outputs": [],
   "source": [
    "constraints_like = [\n",
    "    LpConstraint(\n",
    "        e=lhs_l,\n",
    "        sense=-1,\n",
    "        name=f\"constraint_like_{lhs_l.name[-2:]}\",\n",
    "        rhs=A[int(lhs_l.name[-2]), int(lhs_l.name[-1])]\n",
    "    )\n",
    "    for lhs_l in lhs_like\n",
    "]\n",
    "constraints_like[0].name\n",
    "\n",
    "if len(constraints_like) != n**2:\n",
    "    raise Exception(\n",
    "        \"Liking constraints not constructed right:\"\n",
    "        f\"A.shape = {A.shape}, len(constraints_like) should be \"\n",
    "        f\"{n**2}, actually is {len(constraints_like)}\"\n",
    "    )"
   ]
  },
  {
   "cell_type": "markdown",
   "metadata": {},
   "source": [
    "## One person can be asigned to only one other person"
   ]
  },
  {
   "cell_type": "code",
   "execution_count": 11,
   "metadata": {},
   "outputs": [],
   "source": [
    "def make_single_constraints(lhs_single, kind):\n",
    "    constraints_single = [\n",
    "        LpConstraint(\n",
    "            e=lhs_s,\n",
    "            sense=-1,\n",
    "            name=f\"constraint_single_{kind}_{lhs_s.name[-2:]}\",\n",
    "            rhs=1\n",
    "        )\n",
    "        for lhs_s in lhs_single\n",
    "    ]\n",
    "    \n",
    "    return constraints_single  \n",
    "    \n",
    "\n",
    "lhs_single_rowsum = [\n",
    "    LpAffineExpression(\n",
    "        [(x_np[i, j], 1) for j in range(n)],\n",
    "        name=f\"lhs_single_rowsum_{i}*\"\n",
    "    )\n",
    "    for i in range(n)\n",
    "]\n",
    "\n",
    "lhs_single_colsum = [\n",
    "    LpAffineExpression(\n",
    "        [(x_np[i, j], 1) for i in range(n)],\n",
    "        name=f\"lhs_single_colsum_{j}*\"\n",
    "    )\n",
    "    for j in range(n)\n",
    "]\n",
    "\n",
    "constraints_single_rowsum = make_single_constraints(lhs_single_rowsum, \"rowsum\")\n",
    "constraints_single_colsum = make_single_constraints(lhs_single_colsum, \"colsum\")\n",
    "\n",
    "\n",
    "def check_single_constraints(constraints_single, kind):\n",
    "    if len(constraints_single) != n:\n",
    "        raise Exception(\n",
    "            f\"Constraints single {kind} not constructed right:\"\n",
    "            f\"A.shape = {A.shape}, len(constraints_single_{kind}) should be \"\n",
    "            f\"{n}, actually is {len(constraints_single)}\"\n",
    "        )\n",
    "\n",
    "check_single_constraints(constraints_single_rowsum, \"rowsum\")\n",
    "check_single_constraints(constraints_single_colsum, \"colsum\")"
   ]
  },
  {
   "cell_type": "markdown",
   "metadata": {},
   "source": [
    "## merge constraints"
   ]
  },
  {
   "cell_type": "code",
   "execution_count": 12,
   "metadata": {},
   "outputs": [
    {
     "data": {
      "text/plain": [
       "[1*x_01 + -1*x_10 + 0 = 0,\n",
       " 1*x_02 + -1*x_20 + 0 = 0,\n",
       " 1*x_03 + -1*x_30 + 0 = 0,\n",
       " 1*x_12 + -1*x_21 + 0 = 0,\n",
       " 1*x_13 + -1*x_31 + 0 = 0,\n",
       " 1*x_23 + -1*x_32 + 0 = 0,\n",
       " 1*x_00 + 0 <= 0,\n",
       " 1*x_01 + -1 <= 0,\n",
       " 1*x_02 + -1 <= 0,\n",
       " 1*x_03 + -1 <= 0,\n",
       " 1*x_10 + -1 <= 0,\n",
       " 1*x_11 + 0 <= 0,\n",
       " 1*x_12 + 0 <= 0,\n",
       " 1*x_13 + 0 <= 0,\n",
       " 1*x_20 + -1 <= 0,\n",
       " 1*x_21 + 0 <= 0,\n",
       " 1*x_22 + 0 <= 0,\n",
       " 1*x_23 + -1 <= 0,\n",
       " 1*x_30 + -1 <= 0,\n",
       " 1*x_31 + 0 <= 0,\n",
       " 1*x_32 + -1 <= 0,\n",
       " 1*x_33 + 0 <= 0,\n",
       " 1*x_00 + 1*x_01 + 1*x_02 + 1*x_03 + -1 <= 0,\n",
       " 1*x_10 + 1*x_11 + 1*x_12 + 1*x_13 + -1 <= 0,\n",
       " 1*x_20 + 1*x_21 + 1*x_22 + 1*x_23 + -1 <= 0,\n",
       " 1*x_30 + 1*x_31 + 1*x_32 + 1*x_33 + -1 <= 0,\n",
       " 1*x_00 + 1*x_10 + 1*x_20 + 1*x_30 + -1 <= 0,\n",
       " 1*x_01 + 1*x_11 + 1*x_21 + 1*x_31 + -1 <= 0,\n",
       " 1*x_02 + 1*x_12 + 1*x_22 + 1*x_32 + -1 <= 0,\n",
       " 1*x_03 + 1*x_13 + 1*x_23 + 1*x_33 + -1 <= 0]"
      ]
     },
     "execution_count": 12,
     "metadata": {},
     "output_type": "execute_result"
    }
   ],
   "source": [
    "constraints_all = [\n",
    "    *constraints_symmetry,\n",
    "    *constraints_like,\n",
    "    *constraints_single_rowsum,\n",
    "    *constraints_single_colsum\n",
    "]\n",
    "constraints_all"
   ]
  },
  {
   "cell_type": "markdown",
   "metadata": {},
   "source": [
    "## objective: make as many matches as possible"
   ]
  },
  {
   "cell_type": "code",
   "execution_count": 13,
   "metadata": {},
   "outputs": [
    {
     "data": {
      "text/plain": [
       "1*x_00 + 1*x_01 + 1*x_02 + 1*x_03 + 1*x_10 + 1*x_11 + 1*x_12 + 1*x_13 + 1*x_20 + 1*x_21 + 1*x_22 + 1*x_23 + 1*x_30 + 1*x_31 + 1*x_32 + 1*x_33 + 0"
      ]
     },
     "execution_count": 13,
     "metadata": {},
     "output_type": "execute_result"
    }
   ],
   "source": [
    "objective = LpAffineExpression([(x_i, 1) for x_i in x])\n",
    "objective"
   ]
  },
  {
   "cell_type": "markdown",
   "metadata": {},
   "source": [
    "## define full problem"
   ]
  },
  {
   "cell_type": "code",
   "execution_count": 14,
   "metadata": {},
   "outputs": [],
   "source": [
    "prob = LpProblem(\"The Tindar Problem\", LpMaximize)\n",
    "prob += objective\n",
    "\n",
    "for c in constraints_all:\n",
    "    prob += c"
   ]
  },
  {
   "cell_type": "code",
   "execution_count": 15,
   "metadata": {},
   "outputs": [],
   "source": [
    "prob.writeLP(\"../models/Tindar.lp\")"
   ]
  },
  {
   "cell_type": "markdown",
   "metadata": {},
   "source": [
    "## solution"
   ]
  },
  {
   "cell_type": "code",
   "execution_count": 16,
   "metadata": {},
   "outputs": [
    {
     "data": {
      "text/plain": [
       "1"
      ]
     },
     "execution_count": 16,
     "metadata": {},
     "output_type": "execute_result"
    }
   ],
   "source": [
    "prob.solve()"
   ]
  },
  {
   "cell_type": "code",
   "execution_count": 17,
   "metadata": {},
   "outputs": [
    {
     "name": "stdout",
     "output_type": "stream",
     "text": [
      "Status: Optimal\n"
     ]
    }
   ],
   "source": [
    "print(\"Status:\", LpStatus[prob.status])"
   ]
  },
  {
   "cell_type": "code",
   "execution_count": 18,
   "metadata": {},
   "outputs": [
    {
     "name": "stdout",
     "output_type": "stream",
     "text": [
      "x_00 = 0.0\n",
      "x_01 = 1.0\n",
      "x_02 = 0.0\n",
      "x_03 = 0.0\n",
      "x_10 = 1.0\n",
      "x_11 = 0.0\n",
      "x_12 = 0.0\n",
      "x_13 = 0.0\n",
      "x_20 = 0.0\n",
      "x_21 = 0.0\n",
      "x_22 = 0.0\n",
      "x_23 = 1.0\n",
      "x_30 = 0.0\n",
      "x_31 = 0.0\n",
      "x_32 = 1.0\n",
      "x_33 = 0.0\n"
     ]
    }
   ],
   "source": [
    "for v in prob.variables():\n",
    "    print(v.name, \"=\", v.varValue)"
   ]
  },
  {
   "cell_type": "code",
   "execution_count": 19,
   "metadata": {},
   "outputs": [
    {
     "name": "stdout",
     "output_type": "stream",
     "text": [
      "Number of lovers connected =  4.0\n"
     ]
    }
   ],
   "source": [
    "print(\"Number of lovers connected = \", value(prob.objective))"
   ]
  },
  {
   "cell_type": "markdown",
   "metadata": {},
   "source": [
    "## Q1: what happens to the model when you drop the symmetry of interested people?"
   ]
  },
  {
   "cell_type": "markdown",
   "metadata": {},
   "source": [
    "## Q2: what if people did not express their interest as binary, but as an integer (let's say 1-5). How could you change the model to make the community as happy as possible?"
   ]
  },
  {
   "cell_type": "code",
   "execution_count": null,
   "metadata": {},
   "outputs": [],
   "source": []
  }
 ],
 "metadata": {
  "kernelspec": {
   "display_name": "Python 3",
   "language": "python",
   "name": "python3"
  },
  "language_info": {
   "codemirror_mode": {
    "name": "ipython",
    "version": 3
   },
   "file_extension": ".py",
   "mimetype": "text/x-python",
   "name": "python",
   "nbconvert_exporter": "python",
   "pygments_lexer": "ipython3",
   "version": "3.7.3"
  }
 },
 "nbformat": 4,
 "nbformat_minor": 4
}
