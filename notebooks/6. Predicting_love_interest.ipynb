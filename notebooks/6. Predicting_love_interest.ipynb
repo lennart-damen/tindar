{
 "cells": [
  {
   "cell_type": "markdown",
   "metadata": {},
   "source": [
    "# So how do we fill these missing values?"
   ]
  },
  {
   "cell_type": "code",
   "execution_count": 1,
   "metadata": {},
   "outputs": [],
   "source": [
    "import numpy as np\n",
    "import sys\n",
    "import os\n",
    "from pathlib import Path\n",
    "\n",
    "NOTEBOOK_DIR = os.getcwd()\n",
    "PROJECT_DIR = str(Path(NOTEBOOK_DIR).resolve().parent)\n",
    "\n",
    "sys.path.insert(1, PROJECT_DIR+\"/tindar-engine\")\n",
    "PROJECT_DIR\n",
    "\n",
    "import tindar\n",
    "\n",
    "%load_ext autoreload\n",
    "%autoreload 2"
   ]
  },
  {
   "cell_type": "code",
   "execution_count": 2,
   "metadata": {},
   "outputs": [
    {
     "data": {
      "text/plain": [
       "array([[ 0.,  0., nan, nan,  0., nan,  0.,  0.,  0.,  0.],\n",
       "       [ 0.,  0., nan, nan, nan, nan,  1., nan,  0.,  1.],\n",
       "       [ 1., nan,  0.,  0.,  0.,  1.,  1.,  1.,  0.,  1.],\n",
       "       [ 1.,  1., nan,  0.,  0.,  1.,  1., nan,  0.,  1.],\n",
       "       [nan,  1.,  0.,  0.,  0.,  1.,  1.,  1., nan, nan],\n",
       "       [ 0., nan,  0., nan, nan,  0.,  0.,  0.,  0.,  0.],\n",
       "       [ 0.,  0.,  0.,  0.,  0., nan,  0.,  0.,  0., nan],\n",
       "       [ 0.,  0.,  0.,  0., nan, nan,  0.,  0.,  0., nan],\n",
       "       [ 1., nan,  0.,  0.,  0., nan,  1.,  1.,  0.,  1.],\n",
       "       [ 0.,  0.,  0.,  0.,  0., nan,  0.,  0.,  0.,  0.]])"
      ]
     },
     "execution_count": 2,
     "metadata": {},
     "output_type": "execute_result"
    }
   ],
   "source": [
    "n = 10\n",
    "\n",
    "\n",
    "\n",
    "tindar_problem = tindar.TindarGenerator(\n",
    "    n, nan_probability=0.3, generation_kind=\"interesting\",\n",
    "    attractiveness_distr=\"uniform\", unif_low=0.3, unif_high=0.8\n",
    ")\n",
    "tindar_problem.create_love_matrix()\n",
    "love_matrix = tindar_problem.love_matrix\n",
    "love_matrix"
   ]
  },
  {
   "cell_type": "markdown",
   "metadata": {},
   "source": [
    "## We predict if a person is interested in the other with recommender engines\n",
    "\n",
    "In this notebook, we will use scikit-suprise, a library for collaborative filtering algorithms (an alternative would be sklearn SimpleImputer or other kinds of Imputers).<br>\n",
    "\n"
   ]
  },
  {
   "cell_type": "code",
   "execution_count": null,
   "metadata": {},
   "outputs": [],
   "source": []
  },
  {
   "cell_type": "code",
   "execution_count": null,
   "metadata": {},
   "outputs": [],
   "source": []
  },
  {
   "cell_type": "code",
   "execution_count": null,
   "metadata": {},
   "outputs": [],
   "source": []
  }
 ],
 "metadata": {
  "kernelspec": {
   "display_name": "Python 3",
   "language": "python",
   "name": "python3"
  },
  "language_info": {
   "codemirror_mode": {
    "name": "ipython",
    "version": 3
   },
   "file_extension": ".py",
   "mimetype": "text/x-python",
   "name": "python",
   "nbconvert_exporter": "python",
   "pygments_lexer": "ipython3",
   "version": "3.7.3"
  }
 },
 "nbformat": 4,
 "nbformat_minor": 4
}
