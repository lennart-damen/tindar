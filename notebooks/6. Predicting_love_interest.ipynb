{
 "cells": [
  {
   "cell_type": "markdown",
   "metadata": {},
   "source": [
    "# So how do we fill these missing values?"
   ]
  },
  {
   "cell_type": "code",
   "execution_count": 1,
   "metadata": {},
   "outputs": [],
   "source": [
    "import numpy as np\n",
    "import sys\n",
    "import os\n",
    "from pathlib import Path\n",
    "import pandas as pd\n",
    "\n",
    "NOTEBOOK_DIR = os.getcwd()\n",
    "PROJECT_DIR = str(Path(NOTEBOOK_DIR).resolve().parent)\n",
    "\n",
    "sys.path.insert(1, PROJECT_DIR+\"/tindar-engine\")\n",
    "PROJECT_DIR\n",
    "\n",
    "import tindar\n",
    "\n",
    "%load_ext autoreload\n",
    "%autoreload 2"
   ]
  },
  {
   "cell_type": "code",
   "execution_count": 2,
   "metadata": {},
   "outputs": [
    {
     "data": {
      "text/plain": [
       "array([[ 0.,  1., nan, ...,  1.,  1.,  0.],\n",
       "       [ 0.,  0.,  0., ...,  0.,  0.,  0.],\n",
       "       [ 0.,  1.,  0., ...,  1.,  1.,  0.],\n",
       "       ...,\n",
       "       [nan,  0., nan, ...,  0.,  0.,  0.],\n",
       "       [ 0.,  0., nan, ...,  0.,  0.,  0.],\n",
       "       [ 0.,  1.,  0., ...,  0., nan,  0.]])"
      ]
     },
     "execution_count": 2,
     "metadata": {},
     "output_type": "execute_result"
    }
   ],
   "source": [
    "# n = 10\n",
    "n = 500\n",
    "\n",
    "tindar_problem = tindar.TindarGenerator(\n",
    "    n, nan_probability=0.3, generation_kind=\"interesting\",\n",
    "    attractiveness_distr=\"uniform\", unif_low=0.3, unif_high=0.8\n",
    ")\n",
    "tindar_problem.create_love_matrix()\n",
    "love_matrix = tindar_problem.love_matrix\n",
    "love_matrix"
   ]
  },
  {
   "cell_type": "markdown",
   "metadata": {},
   "source": [
    "## We predict if a person is interested in the other with recommender engines\n",
    "\n",
    "In this notebook, we will use scikit-suprise (https://surprise.readthedocs.io/en/stable/index.html), a library for collaborative filtering algorithms (an alternative would be sklearn SimpleImputer or other kinds of Imputers).<br>\n",
    "\n",
    "An easy way to load datasets into surprise is by tranforming your data to a long datafrom and using surprise.Dataset.load_from_df.\n",
    "\n",
    "Links on Recommender Engines:\n",
    "- blog: https://towardsdatascience.com/introduction-to-recommender-systems-6c66cf15ada\n",
    "- book: The Adaptive Web - Methods and Strategies of Web Personalization, Chapters 9 and 10 (Brusilovsky, Kobsa, Nejdl)\n"
   ]
  },
  {
   "cell_type": "code",
   "execution_count": 3,
   "metadata": {},
   "outputs": [],
   "source": [
    "from surprise import SVD, KNNBaseline, Dataset, accuracy\n",
    "from surprise.model_selection import train_test_split, cross_validate\n",
    "from surprise.reader import Reader\n"
   ]
  },
  {
   "cell_type": "markdown",
   "metadata": {},
   "source": [
    "### Load data"
   ]
  },
  {
   "cell_type": "code",
   "execution_count": 4,
   "metadata": {},
   "outputs": [
    {
     "name": "stdout",
     "output_type": "stream",
     "text": [
      "(500, 500)\n"
     ]
    },
    {
     "data": {
      "text/html": [
       "<div>\n",
       "<style scoped>\n",
       "    .dataframe tbody tr th:only-of-type {\n",
       "        vertical-align: middle;\n",
       "    }\n",
       "\n",
       "    .dataframe tbody tr th {\n",
       "        vertical-align: top;\n",
       "    }\n",
       "\n",
       "    .dataframe thead th {\n",
       "        text-align: right;\n",
       "    }\n",
       "</style>\n",
       "<table border=\"1\" class=\"dataframe\">\n",
       "  <thead>\n",
       "    <tr style=\"text-align: right;\">\n",
       "      <th></th>\n",
       "      <th>0</th>\n",
       "      <th>1</th>\n",
       "      <th>2</th>\n",
       "      <th>3</th>\n",
       "      <th>4</th>\n",
       "      <th>5</th>\n",
       "      <th>6</th>\n",
       "      <th>7</th>\n",
       "      <th>8</th>\n",
       "      <th>9</th>\n",
       "      <th>...</th>\n",
       "      <th>490</th>\n",
       "      <th>491</th>\n",
       "      <th>492</th>\n",
       "      <th>493</th>\n",
       "      <th>494</th>\n",
       "      <th>495</th>\n",
       "      <th>496</th>\n",
       "      <th>497</th>\n",
       "      <th>498</th>\n",
       "      <th>499</th>\n",
       "    </tr>\n",
       "  </thead>\n",
       "  <tbody>\n",
       "    <tr>\n",
       "      <th>0</th>\n",
       "      <td>0.0</td>\n",
       "      <td>1.0</td>\n",
       "      <td>NaN</td>\n",
       "      <td>NaN</td>\n",
       "      <td>NaN</td>\n",
       "      <td>NaN</td>\n",
       "      <td>NaN</td>\n",
       "      <td>0.0</td>\n",
       "      <td>1.0</td>\n",
       "      <td>0.0</td>\n",
       "      <td>...</td>\n",
       "      <td>NaN</td>\n",
       "      <td>1.0</td>\n",
       "      <td>0.0</td>\n",
       "      <td>0.0</td>\n",
       "      <td>NaN</td>\n",
       "      <td>NaN</td>\n",
       "      <td>0.0</td>\n",
       "      <td>1.0</td>\n",
       "      <td>1.0</td>\n",
       "      <td>0.0</td>\n",
       "    </tr>\n",
       "    <tr>\n",
       "      <th>1</th>\n",
       "      <td>0.0</td>\n",
       "      <td>0.0</td>\n",
       "      <td>0.0</td>\n",
       "      <td>NaN</td>\n",
       "      <td>0.0</td>\n",
       "      <td>NaN</td>\n",
       "      <td>NaN</td>\n",
       "      <td>0.0</td>\n",
       "      <td>0.0</td>\n",
       "      <td>0.0</td>\n",
       "      <td>...</td>\n",
       "      <td>NaN</td>\n",
       "      <td>0.0</td>\n",
       "      <td>NaN</td>\n",
       "      <td>NaN</td>\n",
       "      <td>0.0</td>\n",
       "      <td>NaN</td>\n",
       "      <td>0.0</td>\n",
       "      <td>0.0</td>\n",
       "      <td>0.0</td>\n",
       "      <td>0.0</td>\n",
       "    </tr>\n",
       "    <tr>\n",
       "      <th>2</th>\n",
       "      <td>0.0</td>\n",
       "      <td>1.0</td>\n",
       "      <td>0.0</td>\n",
       "      <td>0.0</td>\n",
       "      <td>1.0</td>\n",
       "      <td>1.0</td>\n",
       "      <td>0.0</td>\n",
       "      <td>0.0</td>\n",
       "      <td>1.0</td>\n",
       "      <td>0.0</td>\n",
       "      <td>...</td>\n",
       "      <td>NaN</td>\n",
       "      <td>NaN</td>\n",
       "      <td>NaN</td>\n",
       "      <td>NaN</td>\n",
       "      <td>0.0</td>\n",
       "      <td>NaN</td>\n",
       "      <td>NaN</td>\n",
       "      <td>1.0</td>\n",
       "      <td>1.0</td>\n",
       "      <td>0.0</td>\n",
       "    </tr>\n",
       "    <tr>\n",
       "      <th>3</th>\n",
       "      <td>0.0</td>\n",
       "      <td>NaN</td>\n",
       "      <td>0.0</td>\n",
       "      <td>0.0</td>\n",
       "      <td>1.0</td>\n",
       "      <td>NaN</td>\n",
       "      <td>0.0</td>\n",
       "      <td>0.0</td>\n",
       "      <td>1.0</td>\n",
       "      <td>0.0</td>\n",
       "      <td>...</td>\n",
       "      <td>0.0</td>\n",
       "      <td>0.0</td>\n",
       "      <td>NaN</td>\n",
       "      <td>0.0</td>\n",
       "      <td>NaN</td>\n",
       "      <td>1.0</td>\n",
       "      <td>0.0</td>\n",
       "      <td>NaN</td>\n",
       "      <td>1.0</td>\n",
       "      <td>0.0</td>\n",
       "    </tr>\n",
       "    <tr>\n",
       "      <th>4</th>\n",
       "      <td>NaN</td>\n",
       "      <td>0.0</td>\n",
       "      <td>0.0</td>\n",
       "      <td>0.0</td>\n",
       "      <td>0.0</td>\n",
       "      <td>0.0</td>\n",
       "      <td>0.0</td>\n",
       "      <td>0.0</td>\n",
       "      <td>0.0</td>\n",
       "      <td>0.0</td>\n",
       "      <td>...</td>\n",
       "      <td>0.0</td>\n",
       "      <td>NaN</td>\n",
       "      <td>NaN</td>\n",
       "      <td>NaN</td>\n",
       "      <td>0.0</td>\n",
       "      <td>0.0</td>\n",
       "      <td>0.0</td>\n",
       "      <td>0.0</td>\n",
       "      <td>NaN</td>\n",
       "      <td>0.0</td>\n",
       "    </tr>\n",
       "  </tbody>\n",
       "</table>\n",
       "<p>5 rows × 500 columns</p>\n",
       "</div>"
      ],
      "text/plain": [
       "   0    1    2    3    4    5    6    7    8    9    ...  490  491  492  493  \\\n",
       "0  0.0  1.0  NaN  NaN  NaN  NaN  NaN  0.0  1.0  0.0  ...  NaN  1.0  0.0  0.0   \n",
       "1  0.0  0.0  0.0  NaN  0.0  NaN  NaN  0.0  0.0  0.0  ...  NaN  0.0  NaN  NaN   \n",
       "2  0.0  1.0  0.0  0.0  1.0  1.0  0.0  0.0  1.0  0.0  ...  NaN  NaN  NaN  NaN   \n",
       "3  0.0  NaN  0.0  0.0  1.0  NaN  0.0  0.0  1.0  0.0  ...  0.0  0.0  NaN  0.0   \n",
       "4  NaN  0.0  0.0  0.0  0.0  0.0  0.0  0.0  0.0  0.0  ...  0.0  NaN  NaN  NaN   \n",
       "\n",
       "   494  495  496  497  498  499  \n",
       "0  NaN  NaN  0.0  1.0  1.0  0.0  \n",
       "1  0.0  NaN  0.0  0.0  0.0  0.0  \n",
       "2  0.0  NaN  NaN  1.0  1.0  0.0  \n",
       "3  NaN  1.0  0.0  NaN  1.0  0.0  \n",
       "4  0.0  0.0  0.0  0.0  NaN  0.0  \n",
       "\n",
       "[5 rows x 500 columns]"
      ]
     },
     "execution_count": 4,
     "metadata": {},
     "output_type": "execute_result"
    }
   ],
   "source": [
    "df_love = pd.DataFrame(love_matrix)\n",
    "print(df_love.shape)\n",
    "df_love.head()"
   ]
  },
  {
   "cell_type": "code",
   "execution_count": 5,
   "metadata": {},
   "outputs": [],
   "source": [
    "def wide_to_long(df_wide, column_names=['Row', 'Column', 'Value']):\n",
    "    df_wide_transp = df_wide.transpose()\n",
    "    df_long = pd.DataFrame(df_wide_transp.copy().unstack()).reset_index()\n",
    "    df_long.columns = column_names\n",
    "    df_long = df_long.dropna()\n",
    "\n",
    "    return df_long"
   ]
  },
  {
   "cell_type": "code",
   "execution_count": 6,
   "metadata": {},
   "outputs": [
    {
     "data": {
      "text/html": [
       "<div>\n",
       "<style scoped>\n",
       "    .dataframe tbody tr th:only-of-type {\n",
       "        vertical-align: middle;\n",
       "    }\n",
       "\n",
       "    .dataframe tbody tr th {\n",
       "        vertical-align: top;\n",
       "    }\n",
       "\n",
       "    .dataframe thead th {\n",
       "        text-align: right;\n",
       "    }\n",
       "</style>\n",
       "<table border=\"1\" class=\"dataframe\">\n",
       "  <thead>\n",
       "    <tr style=\"text-align: right;\">\n",
       "      <th></th>\n",
       "      <th>Row</th>\n",
       "      <th>Column</th>\n",
       "      <th>Value</th>\n",
       "    </tr>\n",
       "  </thead>\n",
       "  <tbody>\n",
       "    <tr>\n",
       "      <th>0</th>\n",
       "      <td>0</td>\n",
       "      <td>0</td>\n",
       "      <td>0.0</td>\n",
       "    </tr>\n",
       "    <tr>\n",
       "      <th>1</th>\n",
       "      <td>0</td>\n",
       "      <td>1</td>\n",
       "      <td>1.0</td>\n",
       "    </tr>\n",
       "    <tr>\n",
       "      <th>7</th>\n",
       "      <td>0</td>\n",
       "      <td>7</td>\n",
       "      <td>0.0</td>\n",
       "    </tr>\n",
       "    <tr>\n",
       "      <th>8</th>\n",
       "      <td>0</td>\n",
       "      <td>8</td>\n",
       "      <td>1.0</td>\n",
       "    </tr>\n",
       "    <tr>\n",
       "      <th>9</th>\n",
       "      <td>0</td>\n",
       "      <td>9</td>\n",
       "      <td>0.0</td>\n",
       "    </tr>\n",
       "  </tbody>\n",
       "</table>\n",
       "</div>"
      ],
      "text/plain": [
       "   Row  Column  Value\n",
       "0    0       0    0.0\n",
       "1    0       1    1.0\n",
       "7    0       7    0.0\n",
       "8    0       8    1.0\n",
       "9    0       9    0.0"
      ]
     },
     "execution_count": 6,
     "metadata": {},
     "output_type": "execute_result"
    }
   ],
   "source": [
    "df_love_long = wide_to_long(df_love)\n",
    "df_love_long.head()"
   ]
  },
  {
   "cell_type": "code",
   "execution_count": 7,
   "metadata": {},
   "outputs": [],
   "source": [
    "RATING_SCALE = (0, 1)\n",
    "reader = Reader(rating_scale=RATING_SCALE)\n",
    "surprise_dataset = Dataset.load_from_df(\n",
    "    df_love_long, reader\n",
    ")"
   ]
  },
  {
   "cell_type": "markdown",
   "metadata": {},
   "source": [
    "### Initialize model"
   ]
  },
  {
   "cell_type": "code",
   "execution_count": 8,
   "metadata": {},
   "outputs": [],
   "source": [
    "model = SVD(n_factors=3)\n",
    "# model = KNNBaseline(k=5)"
   ]
  },
  {
   "cell_type": "markdown",
   "metadata": {},
   "source": [
    "### Split data"
   ]
  },
  {
   "cell_type": "markdown",
   "metadata": {},
   "source": [
    "#### Simple split"
   ]
  },
  {
   "cell_type": "code",
   "execution_count": 9,
   "metadata": {},
   "outputs": [],
   "source": [
    "trainset, testset = train_test_split(surprise_dataset, test_size=.25)"
   ]
  },
  {
   "cell_type": "code",
   "execution_count": 10,
   "metadata": {},
   "outputs": [
    {
     "name": "stdout",
     "output_type": "stream",
     "text": [
      "Help on method build_testset in module surprise.trainset:\n",
      "\n",
      "build_testset() method of surprise.trainset.Trainset instance\n",
      "    Return a list of ratings that can be used as a testset in the\n",
      "    :meth:`test() <surprise.prediction_algorithms.algo_base.AlgoBase.test>`\n",
      "    method.\n",
      "    \n",
      "    The ratings are all the ratings that are in the trainset, i.e. all the\n",
      "    ratings returned by the :meth:`all_ratings()\n",
      "    <surprise.Trainset.all_ratings>` generator. This is useful in\n",
      "    cases where you want to to test your algorithm on the trainset.\n",
      "\n",
      "None\n"
     ]
    }
   ],
   "source": [
    "model.fit(trainset)\n",
    "test_predictions = model.test(testset)\n",
    "print(help(trainset.build_testset))\n",
    "trainset_iterable = trainset.build_testset()\n",
    "train_predictions = model.test(trainset_iterable)"
   ]
  },
  {
   "cell_type": "code",
   "execution_count": 13,
   "metadata": {},
   "outputs": [
    {
     "data": {
      "text/plain": [
       "131317"
      ]
     },
     "execution_count": 13,
     "metadata": {},
     "output_type": "execute_result"
    }
   ],
   "source": [
    "len(trainset_iterable)"
   ]
  },
  {
   "cell_type": "code",
   "execution_count": 19,
   "metadata": {},
   "outputs": [],
   "source": [
    "def surprise_predictions_to_df(predictions_surp):\n",
    "    values = [(x.uid, x.iid, x.r_ui, x.est) for x in predictions_surp]\n",
    "    \n",
    "    df_predictions = pd.DataFrame(\n",
    "        data=values,\n",
    "        columns=[\"Row\", \"Column\", \"y\", \"probabilities\"]\n",
    "    )\n",
    "    \n",
    "    return df_predictions"
   ]
  },
  {
   "cell_type": "code",
   "execution_count": 20,
   "metadata": {},
   "outputs": [
    {
     "name": "stdout",
     "output_type": "stream",
     "text": [
      "(43773, 5)\n",
      "(131317, 4)\n",
      "(175090, 3)\n"
     ]
    },
    {
     "data": {
      "text/html": [
       "<div>\n",
       "<style scoped>\n",
       "    .dataframe tbody tr th:only-of-type {\n",
       "        vertical-align: middle;\n",
       "    }\n",
       "\n",
       "    .dataframe tbody tr th {\n",
       "        vertical-align: top;\n",
       "    }\n",
       "\n",
       "    .dataframe thead th {\n",
       "        text-align: right;\n",
       "    }\n",
       "</style>\n",
       "<table border=\"1\" class=\"dataframe\">\n",
       "  <thead>\n",
       "    <tr style=\"text-align: right;\">\n",
       "      <th></th>\n",
       "      <th>Row</th>\n",
       "      <th>Column</th>\n",
       "      <th>y</th>\n",
       "      <th>probabilities</th>\n",
       "    </tr>\n",
       "  </thead>\n",
       "  <tbody>\n",
       "    <tr>\n",
       "      <th>0</th>\n",
       "      <td>213</td>\n",
       "      <td>248</td>\n",
       "      <td>0.0</td>\n",
       "      <td>0.044541</td>\n",
       "    </tr>\n",
       "    <tr>\n",
       "      <th>1</th>\n",
       "      <td>213</td>\n",
       "      <td>95</td>\n",
       "      <td>1.0</td>\n",
       "      <td>0.598000</td>\n",
       "    </tr>\n",
       "    <tr>\n",
       "      <th>2</th>\n",
       "      <td>213</td>\n",
       "      <td>64</td>\n",
       "      <td>0.0</td>\n",
       "      <td>0.011094</td>\n",
       "    </tr>\n",
       "    <tr>\n",
       "      <th>3</th>\n",
       "      <td>213</td>\n",
       "      <td>187</td>\n",
       "      <td>0.0</td>\n",
       "      <td>0.077845</td>\n",
       "    </tr>\n",
       "    <tr>\n",
       "      <th>4</th>\n",
       "      <td>213</td>\n",
       "      <td>330</td>\n",
       "      <td>0.0</td>\n",
       "      <td>0.112984</td>\n",
       "    </tr>\n",
       "  </tbody>\n",
       "</table>\n",
       "</div>"
      ],
      "text/plain": [
       "   Row  Column    y  probabilities\n",
       "0  213     248  0.0       0.044541\n",
       "1  213      95  1.0       0.598000\n",
       "2  213      64  0.0       0.011094\n",
       "3  213     187  0.0       0.077845\n",
       "4  213     330  0.0       0.112984"
      ]
     },
     "execution_count": 20,
     "metadata": {},
     "output_type": "execute_result"
    }
   ],
   "source": [
    "df_test_preds = surprise_predictions_to_df(test_predictions)\n",
    "df_test_preds[\"Set\"] = \"test\"\n",
    "df_train_preds = surprise_predictions_to_df(train_predictions)\n",
    "df_test_preds[\"Set\"] = \"train\"\n",
    "\n",
    "print(df_test_preds.shape)\n",
    "print(df_train_preds.shape)\n",
    "print(df_love_long.shape)\n",
    "\n",
    "assert len(df_test_preds) + len(df_train_preds) == len(df_love_long), \\\n",
    "       f\"len(df_test_preds) + len(df_train_preds) = {len(df_test_preds) + len(df_train_preds)} \"\\\n",
    "       f\"len(df_love_long) {len(df_love_long)} \"\\\n",
    "\n",
    "\n",
    "df_train_preds.head()"
   ]
  },
  {
   "cell_type": "markdown",
   "metadata": {},
   "source": [
    "### Convert floats to labels"
   ]
  },
  {
   "cell_type": "code",
   "execution_count": 26,
   "metadata": {},
   "outputs": [
    {
     "data": {
      "text/html": [
       "<div>\n",
       "<style scoped>\n",
       "    .dataframe tbody tr th:only-of-type {\n",
       "        vertical-align: middle;\n",
       "    }\n",
       "\n",
       "    .dataframe tbody tr th {\n",
       "        vertical-align: top;\n",
       "    }\n",
       "\n",
       "    .dataframe thead th {\n",
       "        text-align: right;\n",
       "    }\n",
       "</style>\n",
       "<table border=\"1\" class=\"dataframe\">\n",
       "  <thead>\n",
       "    <tr style=\"text-align: right;\">\n",
       "      <th></th>\n",
       "      <th>Row</th>\n",
       "      <th>Column</th>\n",
       "      <th>y</th>\n",
       "      <th>probabilities</th>\n",
       "      <th>y_hat</th>\n",
       "    </tr>\n",
       "  </thead>\n",
       "  <tbody>\n",
       "    <tr>\n",
       "      <th>0</th>\n",
       "      <td>213</td>\n",
       "      <td>248</td>\n",
       "      <td>0.0</td>\n",
       "      <td>0.044541</td>\n",
       "      <td>0.0</td>\n",
       "    </tr>\n",
       "    <tr>\n",
       "      <th>1</th>\n",
       "      <td>213</td>\n",
       "      <td>95</td>\n",
       "      <td>1.0</td>\n",
       "      <td>0.598000</td>\n",
       "      <td>1.0</td>\n",
       "    </tr>\n",
       "    <tr>\n",
       "      <th>2</th>\n",
       "      <td>213</td>\n",
       "      <td>64</td>\n",
       "      <td>0.0</td>\n",
       "      <td>0.011094</td>\n",
       "      <td>0.0</td>\n",
       "    </tr>\n",
       "    <tr>\n",
       "      <th>3</th>\n",
       "      <td>213</td>\n",
       "      <td>187</td>\n",
       "      <td>0.0</td>\n",
       "      <td>0.077845</td>\n",
       "      <td>0.0</td>\n",
       "    </tr>\n",
       "    <tr>\n",
       "      <th>4</th>\n",
       "      <td>213</td>\n",
       "      <td>330</td>\n",
       "      <td>0.0</td>\n",
       "      <td>0.112984</td>\n",
       "      <td>0.0</td>\n",
       "    </tr>\n",
       "  </tbody>\n",
       "</table>\n",
       "</div>"
      ],
      "text/plain": [
       "   Row  Column    y  probabilities  y_hat\n",
       "0  213     248  0.0       0.044541    0.0\n",
       "1  213      95  1.0       0.598000    1.0\n",
       "2  213      64  0.0       0.011094    0.0\n",
       "3  213     187  0.0       0.077845    0.0\n",
       "4  213     330  0.0       0.112984    0.0"
      ]
     },
     "execution_count": 26,
     "metadata": {},
     "output_type": "execute_result"
    }
   ],
   "source": [
    "def round_probas(df_predictions):\n",
    "    df_predictions[\"y_hat\"] = df_predictions[\"probabilities\"].copy()\n",
    "    \n",
    "    round_up_bool = df_predictions.loc[:, \"probabilities\"] > 0.5\n",
    "    round_down_bool = df_predictions.loc[:, \"probabilities\"] <= 0.5\n",
    "    \n",
    "    df_predictions.loc[round_up_bool, \"y_hat\"] = 1\n",
    "    df_predictions.loc[round_down_bool, \"y_hat\"] = 0\n",
    "    \n",
    "    return df_predictions\n",
    "\n",
    "    \n",
    "df_train_preds_complete = round_probas(df_train_preds)\n",
    "df_test_preds_complete = round_probas(df_test_preds)\n",
    "\n",
    "assert (df_train_preds_complete[\"probabilities\"] - df_train_preds_complete[\"y_hat\"]).abs().max() <= 0.5\n",
    "assert (df_test_preds_complete[\"probabilities\"] - df_test_preds_complete[\"y_hat\"]).abs().max() <= 0.5\n",
    "\n",
    "df_train_preds_complete.head()"
   ]
  },
  {
   "cell_type": "markdown",
   "metadata": {},
   "source": [
    "## Evaluate model\n",
    "\n",
    "TODO: sklearn"
   ]
  },
  {
   "cell_type": "code",
   "execution_count": 28,
   "metadata": {},
   "outputs": [
    {
     "data": {
      "text/plain": [
       "0.9704227175460908"
      ]
     },
     "execution_count": 28,
     "metadata": {},
     "output_type": "execute_result"
    }
   ],
   "source": [
    "(df_train_preds_complete[\"y\"] == df_train_preds_complete[\"y_hat\"]).sum()/len(df_train_preds_complete)"
   ]
  },
  {
   "cell_type": "code",
   "execution_count": 29,
   "metadata": {},
   "outputs": [
    {
     "data": {
      "text/plain": [
       "0.9676056016265735"
      ]
     },
     "execution_count": 29,
     "metadata": {},
     "output_type": "execute_result"
    }
   ],
   "source": [
    "(df_test_preds_complete[\"y\"] == df_test_preds_complete[\"y_hat\"]).sum()/len(df_test_preds_complete)"
   ]
  },
  {
   "cell_type": "code",
   "execution_count": null,
   "metadata": {},
   "outputs": [],
   "source": []
  }
 ],
 "metadata": {
  "kernelspec": {
   "display_name": "Python 3",
   "language": "python",
   "name": "python3"
  },
  "language_info": {
   "codemirror_mode": {
    "name": "ipython",
    "version": 3
   },
   "file_extension": ".py",
   "mimetype": "text/x-python",
   "name": "python",
   "nbconvert_exporter": "python",
   "pygments_lexer": "ipython3",
   "version": "3.7.3"
  }
 },
 "nbformat": 4,
 "nbformat_minor": 4
}
