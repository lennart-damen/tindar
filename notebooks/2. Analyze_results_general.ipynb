{
 "cells": [
  {
   "cell_type": "markdown",
   "metadata": {},
   "source": [
    "# Analysing results for general experiment (series of n)"
   ]
  },
  {
   "cell_type": "code",
   "execution_count": 1,
   "metadata": {},
   "outputs": [],
   "source": [
    "import pandas as pd\n",
    "import matplotlib.pyplot as plt\n",
    "import seaborn as sns"
   ]
  },
  {
   "cell_type": "code",
   "execution_count": 2,
   "metadata": {},
   "outputs": [],
   "source": [
    "experiment_id = \"full_run\"\n",
    "filename_results = f\"results_experiment_{experiment_id}.json\"\n",
    "\n",
    "df_results = pd.read_json(f\"../data/{filename_results}\")\n",
    "# df_results.loc[df_results[\"status\"].isnull(), \"status\"] = \"Optimal\""
   ]
  },
  {
   "cell_type": "code",
   "execution_count": 3,
   "metadata": {},
   "outputs": [
    {
     "data": {
      "text/html": [
       "<div>\n",
       "<style scoped>\n",
       "    .dataframe tbody tr th:only-of-type {\n",
       "        vertical-align: middle;\n",
       "    }\n",
       "\n",
       "    .dataframe tbody tr th {\n",
       "        vertical-align: top;\n",
       "    }\n",
       "\n",
       "    .dataframe thead th {\n",
       "        text-align: right;\n",
       "    }\n",
       "</style>\n",
       "<table border=\"1\" class=\"dataframe\">\n",
       "  <thead>\n",
       "    <tr style=\"text-align: right;\">\n",
       "      <th></th>\n",
       "      <th>experiment_id</th>\n",
       "      <th>tindar_id</th>\n",
       "      <th>n</th>\n",
       "      <th>connectedness</th>\n",
       "      <th>p</th>\n",
       "      <th>solver</th>\n",
       "      <th>status</th>\n",
       "      <th>objective_value</th>\n",
       "      <th>time</th>\n",
       "    </tr>\n",
       "  </thead>\n",
       "  <tbody>\n",
       "    <tr>\n",
       "      <th>0</th>\n",
       "      <td>full_run</td>\n",
       "      <td>0</td>\n",
       "      <td>10</td>\n",
       "      <td>1</td>\n",
       "      <td>0.12125</td>\n",
       "      <td>heuristic</td>\n",
       "      <td>Solved (optimal unsure)</td>\n",
       "      <td>0</td>\n",
       "      <td>0.001328</td>\n",
       "    </tr>\n",
       "    <tr>\n",
       "      <th>1</th>\n",
       "      <td>full_run</td>\n",
       "      <td>1</td>\n",
       "      <td>10</td>\n",
       "      <td>1</td>\n",
       "      <td>0.12125</td>\n",
       "      <td>heuristic</td>\n",
       "      <td>Solved (optimal unsure)</td>\n",
       "      <td>2</td>\n",
       "      <td>0.000718</td>\n",
       "    </tr>\n",
       "    <tr>\n",
       "      <th>2</th>\n",
       "      <td>full_run</td>\n",
       "      <td>2</td>\n",
       "      <td>10</td>\n",
       "      <td>1</td>\n",
       "      <td>0.12125</td>\n",
       "      <td>heuristic</td>\n",
       "      <td>Solved (optimal unsure)</td>\n",
       "      <td>0</td>\n",
       "      <td>0.000612</td>\n",
       "    </tr>\n",
       "    <tr>\n",
       "      <th>3</th>\n",
       "      <td>full_run</td>\n",
       "      <td>3</td>\n",
       "      <td>10</td>\n",
       "      <td>1</td>\n",
       "      <td>0.12125</td>\n",
       "      <td>heuristic</td>\n",
       "      <td>Solved (optimal unsure)</td>\n",
       "      <td>0</td>\n",
       "      <td>0.001138</td>\n",
       "    </tr>\n",
       "    <tr>\n",
       "      <th>4</th>\n",
       "      <td>full_run</td>\n",
       "      <td>4</td>\n",
       "      <td>10</td>\n",
       "      <td>1</td>\n",
       "      <td>0.12125</td>\n",
       "      <td>heuristic</td>\n",
       "      <td>Solved (optimal unsure)</td>\n",
       "      <td>2</td>\n",
       "      <td>0.001962</td>\n",
       "    </tr>\n",
       "  </tbody>\n",
       "</table>\n",
       "</div>"
      ],
      "text/plain": [
       "  experiment_id  tindar_id   n  connectedness        p     solver  \\\n",
       "0      full_run          0  10              1  0.12125  heuristic   \n",
       "1      full_run          1  10              1  0.12125  heuristic   \n",
       "2      full_run          2  10              1  0.12125  heuristic   \n",
       "3      full_run          3  10              1  0.12125  heuristic   \n",
       "4      full_run          4  10              1  0.12125  heuristic   \n",
       "\n",
       "                    status  objective_value      time  \n",
       "0  Solved (optimal unsure)                0  0.001328  \n",
       "1  Solved (optimal unsure)                2  0.000718  \n",
       "2  Solved (optimal unsure)                0  0.000612  \n",
       "3  Solved (optimal unsure)                0  0.001138  \n",
       "4  Solved (optimal unsure)                2  0.001962  "
      ]
     },
     "execution_count": 3,
     "metadata": {},
     "output_type": "execute_result"
    }
   ],
   "source": [
    "df_results.head()"
   ]
  },
  {
   "cell_type": "markdown",
   "metadata": {},
   "source": [
    "## Data Validation"
   ]
  },
  {
   "cell_type": "code",
   "execution_count": 4,
   "metadata": {},
   "outputs": [],
   "source": [
    "num_solvers = len(df_results[\"solver\"].unique())\n",
    "\n",
    "if num_solvers == 1:\n",
    "    assert (df_results[\"tindar_id\"].value_counts() == 1).all()\n",
    "\n",
    "elif num_solvers == 2:\n",
    "    assert (df_results[\"tindar_id\"].value_counts() == 2).all()\n",
    "\n",
    "else:\n",
    "    raise Exception(f\"Data says {num_solvers} solvers. Only 1 or 2 allowed\")\n",
    "\n"
   ]
  },
  {
   "cell_type": "markdown",
   "metadata": {},
   "source": [
    "## Objective value: difference pulp & heuristic"
   ]
  },
  {
   "cell_type": "code",
   "execution_count": 5,
   "metadata": {},
   "outputs": [
    {
     "data": {
      "text/html": [
       "<div>\n",
       "<style scoped>\n",
       "    .dataframe tbody tr th:only-of-type {\n",
       "        vertical-align: middle;\n",
       "    }\n",
       "\n",
       "    .dataframe tbody tr th {\n",
       "        vertical-align: top;\n",
       "    }\n",
       "\n",
       "    .dataframe thead th {\n",
       "        text-align: right;\n",
       "    }\n",
       "</style>\n",
       "<table border=\"1\" class=\"dataframe\">\n",
       "  <thead>\n",
       "    <tr style=\"text-align: right;\">\n",
       "      <th></th>\n",
       "      <th>objective_difference_abs</th>\n",
       "      <th>objective_difference_perc</th>\n",
       "      <th>solvetime_difference_abs</th>\n",
       "      <th>solvetime_difference_perc</th>\n",
       "      <th>n</th>\n",
       "      <th>connectedness</th>\n",
       "    </tr>\n",
       "    <tr>\n",
       "      <th>tindar_id</th>\n",
       "      <th></th>\n",
       "      <th></th>\n",
       "      <th></th>\n",
       "      <th></th>\n",
       "      <th></th>\n",
       "      <th></th>\n",
       "    </tr>\n",
       "  </thead>\n",
       "  <tbody>\n",
       "    <tr>\n",
       "      <th>0</th>\n",
       "      <td>0.0</td>\n",
       "      <td>0.0</td>\n",
       "      <td>0.043021</td>\n",
       "      <td>32.392742</td>\n",
       "      <td>10.0</td>\n",
       "      <td>1.0</td>\n",
       "    </tr>\n",
       "    <tr>\n",
       "      <th>1</th>\n",
       "      <td>0.0</td>\n",
       "      <td>0.0</td>\n",
       "      <td>0.037378</td>\n",
       "      <td>52.065190</td>\n",
       "      <td>10.0</td>\n",
       "      <td>1.0</td>\n",
       "    </tr>\n",
       "    <tr>\n",
       "      <th>2</th>\n",
       "      <td>0.0</td>\n",
       "      <td>0.0</td>\n",
       "      <td>0.038898</td>\n",
       "      <td>63.528009</td>\n",
       "      <td>10.0</td>\n",
       "      <td>1.0</td>\n",
       "    </tr>\n",
       "    <tr>\n",
       "      <th>3</th>\n",
       "      <td>0.0</td>\n",
       "      <td>0.0</td>\n",
       "      <td>0.037374</td>\n",
       "      <td>32.841388</td>\n",
       "      <td>10.0</td>\n",
       "      <td>1.0</td>\n",
       "    </tr>\n",
       "    <tr>\n",
       "      <th>4</th>\n",
       "      <td>0.0</td>\n",
       "      <td>0.0</td>\n",
       "      <td>0.039163</td>\n",
       "      <td>19.959533</td>\n",
       "      <td>10.0</td>\n",
       "      <td>1.0</td>\n",
       "    </tr>\n",
       "  </tbody>\n",
       "</table>\n",
       "</div>"
      ],
      "text/plain": [
       "           objective_difference_abs  objective_difference_perc  \\\n",
       "tindar_id                                                        \n",
       "0                               0.0                        0.0   \n",
       "1                               0.0                        0.0   \n",
       "2                               0.0                        0.0   \n",
       "3                               0.0                        0.0   \n",
       "4                               0.0                        0.0   \n",
       "\n",
       "           solvetime_difference_abs  solvetime_difference_perc     n  \\\n",
       "tindar_id                                                              \n",
       "0                          0.043021                  32.392742  10.0   \n",
       "1                          0.037378                  52.065190  10.0   \n",
       "2                          0.038898                  63.528009  10.0   \n",
       "3                          0.037374                  32.841388  10.0   \n",
       "4                          0.039163                  19.959533  10.0   \n",
       "\n",
       "           connectedness  \n",
       "tindar_id                 \n",
       "0                    1.0  \n",
       "1                    1.0  \n",
       "2                    1.0  \n",
       "3                    1.0  \n",
       "4                    1.0  "
      ]
     },
     "execution_count": 5,
     "metadata": {},
     "output_type": "execute_result"
    }
   ],
   "source": [
    "def solver_difference(df_sub):\n",
    "    opt = df_sub.loc[df_sub[\"solver\"] == \"pulp\"]\n",
    "    heur = df_sub.loc[df_sub[\"solver\"] == \"heuristic\"]\n",
    "    \n",
    "    opt_obj = opt[\"objective_value\"].values[0]\n",
    "    heur_obj = heur[\"objective_value\"].values[0]\n",
    "\n",
    "    opt_solvetime = opt[\"time\"].values[0]\n",
    "    heur_solvetime = heur[\"time\"].values[0]\n",
    "    \n",
    "    if opt_obj == 0:\n",
    "        perc_difference = 0\n",
    "    else:\n",
    "        perc_difference = (opt_obj - heur_obj)/opt_obj\n",
    "    \n",
    "    return pd.Series({\n",
    "        \"objective_difference_abs\": opt_obj - heur_obj,\n",
    "        \"objective_difference_perc\": perc_difference,\n",
    "        \"solvetime_difference_abs\": opt_solvetime - heur_solvetime,\n",
    "        \"solvetime_difference_perc\": (opt_solvetime - heur_solvetime)/heur_solvetime,\n",
    "        \"n\": df_sub[\"n\"].values[0],\n",
    "        \"connectedness\": df_sub[\"connectedness\"].values[0],\n",
    "    })\n",
    "\n",
    "df_solver_difference = df_results.groupby([\"tindar_id\"]).apply(solver_difference)\n",
    "df_solver_difference.head()"
   ]
  },
  {
   "cell_type": "code",
   "execution_count": 6,
   "metadata": {},
   "outputs": [
    {
     "data": {
      "image/png": "[encoded data removed]",
      "text/plain": [
       "<Figure size 432x288 with 1 Axes>"
      ]
     },
     "metadata": {
      "needs_background": "light"
     },
     "output_type": "display_data"
    }
   ],
   "source": [
    "var_x = \"n\"\n",
    "var_y = \"objective_difference_perc\"\n",
    "\n",
    "plt.figure()\n",
    "plt.title(f\"Scatterplot of relative objective difference\\n((pulp-heuristic)/pulp) vs {var_x} for experiment {experiment_id}\")\n",
    "sns.scatterplot(\n",
    "    x = var_x,\n",
    "    y = var_y,\n",
    "    data = df_solver_difference\n",
    ")\n",
    "plt.savefig(f\"../documentation/figures/scatterplot_{var_x}_vs_{var_y}_experiment_{experiment_id}\")\n"
   ]
  },
  {
   "cell_type": "code",
   "execution_count": 7,
   "metadata": {},
   "outputs": [
    {
     "data": {
      "image/png": "[encoded data removed]",
      "text/plain": [
       "<Figure size 432x288 with 1 Axes>"
      ]
     },
     "metadata": {
      "needs_background": "light"
     },
     "output_type": "display_data"
    }
   ],
   "source": [
    "var_y = \"solvetime_difference_perc\"\n",
    "\n",
    "plt.figure()\n",
    "plt.title(f\"Scatterplot of relative solvetime difference\\n((heuristic-pulp)/heuristic) for experiment {experiment_id}\")\n",
    "sns.scatterplot(\n",
    "    x = var_x,\n",
    "    y = var_y,\n",
    "    data = df_solver_difference\n",
    ")\n",
    "plt.savefig(f\"../documentation/figures/scatterplot_{var_x}_vs_{var_y}_experiment_{experiment_id}\")\n"
   ]
  },
  {
   "cell_type": "markdown",
   "metadata": {},
   "source": [
    "### Heatmaps for targets vs(n, connectedness)"
   ]
  },
  {
   "cell_type": "code",
   "execution_count": 8,
   "metadata": {},
   "outputs": [
    {
     "name": "stdout",
     "output_type": "stream",
     "text": [
      "objective_difference_perc\n"
     ]
    },
    {
     "data": {
      "image/png": "[encoded data removed]",
      "text/plain": [
       "<Figure size 432x288 with 2 Axes>"
      ]
     },
     "metadata": {
      "needs_background": "light"
     },
     "output_type": "display_data"
    }
   ],
   "source": [
    "var_y = \"objective_difference_perc\"\n",
    "print(var_y)\n",
    "df_n_conn = df_solver_difference.groupby([\"n\", \"connectedness\"]).apply(lambda x: x[var_y].mean()).reset_index()\n",
    "df_n_conn[\"n\"] = df_n_conn[\"n\"].astype(int)\n",
    "df_n_conn.columns = list(df_n_conn.columns[:2]) + [var_y]\n",
    "df_pivot = df_n_conn.pivot(\"n\", \"connectedness\", var_y)\n",
    "\n",
    "plt.figure()\n",
    "plt.title(f\"Mean relative objective difference ((pulp-heuristic)/pulp)\\ngrouped by n and connectedness\")\n",
    "sns.heatmap(df_pivot)\n",
    "plt.savefig(f\"../documentation/figures/heatmap_{var_y}_experiment_{experiment_id}\")\n"
   ]
  },
  {
   "cell_type": "code",
   "execution_count": 9,
   "metadata": {},
   "outputs": [
    {
     "name": "stdout",
     "output_type": "stream",
     "text": [
      "solvetime_difference_perc\n"
     ]
    },
    {
     "data": {
      "image/png": "[encoded data removed]",
      "text/plain": [
       "<Figure size 432x288 with 2 Axes>"
      ]
     },
     "metadata": {
      "needs_background": "light"
     },
     "output_type": "display_data"
    }
   ],
   "source": [
    "var_y = \"solvetime_difference_perc\"\n",
    "print(var_y)\n",
    "df_n_conn = df_solver_difference.groupby([\"n\", \"connectedness\"]).apply(lambda x: x[var_y].mean()).reset_index()\n",
    "df_n_conn[\"n\"] = df_n_conn[\"n\"].astype(int)\n",
    "df_n_conn.columns = list(df_n_conn.columns[:2]) + [var_y]\n",
    "df_pivot = df_n_conn.pivot(\"n\", \"connectedness\", var_y)\n",
    "\n",
    "plt.figure()\n",
    "plt.title(f\"Mean relative solvetime difference ((heuristic-pulp)/heuristic)\\ngrouped by n and connectedness\")\n",
    "sns.heatmap(df_pivot)\n",
    "plt.savefig(f\"../documentation/figures/heatmap_{var_y}_experiment_{experiment_id}\")\n"
   ]
  }
 ],
 "metadata": {
  "kernelspec": {
   "display_name": "env",
   "language": "python",
   "name": "env"
  },
  "language_info": {
   "codemirror_mode": {
    "name": "ipython",
    "version": 3
   },
   "file_extension": ".py",
   "mimetype": "text/x-python",
   "name": "python",
   "nbconvert_exporter": "python",
   "pygments_lexer": "ipython3",
   "version": "3.7.7"
  }
 },
 "nbformat": 4,
 "nbformat_minor": 4
}
