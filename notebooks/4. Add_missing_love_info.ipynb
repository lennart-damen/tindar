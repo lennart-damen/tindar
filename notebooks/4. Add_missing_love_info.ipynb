{
 "cells": [
  {
   "cell_type": "markdown",
   "metadata": {},
   "source": [
    "# What if not all people stated in whom they are interested?"
   ]
  },
  {
   "cell_type": "code",
   "execution_count": 1,
   "metadata": {},
   "outputs": [],
   "source": [
    "import numpy as np\n",
    "import sys\n",
    "import os\n",
    "from pathlib import Path\n",
    "import matplotlib.pyplot as plt\n",
    "\n",
    "NOTEBOOK_DIR = os.getcwd()\n",
    "PROJECT_DIR = str(Path(NOTEBOOK_DIR).resolve().parent)\n",
    "\n",
    "sys.path.insert(1, PROJECT_DIR+\"/tindar-engine\")\n",
    "PROJECT_DIR\n",
    "\n",
    "import tindar\n",
    "\n",
    "%load_ext autoreload\n",
    "%autoreload 2"
   ]
  },
  {
   "cell_type": "code",
   "execution_count": 2,
   "metadata": {},
   "outputs": [
    {
     "data": {
      "text/plain": [
       "array([[0., 0., 0., 0., 0., 0., 0., 0., 0., 0.],\n",
       "       [0., 0., 0., 0., 1., 0., 1., 0., 0., 0.],\n",
       "       [1., 0., 0., 0., 0., 0., 0., 1., 1., 0.],\n",
       "       [1., 0., 0., 0., 0., 1., 1., 0., 0., 0.],\n",
       "       [0., 0., 0., 0., 0., 0., 1., 1., 0., 0.],\n",
       "       [1., 0., 0., 0., 0., 0., 0., 0., 0., 1.],\n",
       "       [0., 0., 1., 0., 0., 1., 0., 0., 0., 1.],\n",
       "       [0., 0., 0., 0., 1., 0., 0., 0., 0., 0.],\n",
       "       [0., 1., 0., 0., 0., 0., 0., 1., 0., 0.],\n",
       "       [0., 0., 0., 0., 0., 1., 0., 1., 1., 0.]])"
      ]
     },
     "execution_count": 2,
     "metadata": {},
     "output_type": "execute_result"
    }
   ],
   "source": [
    "n = 10\n",
    "connectedness = 4\n",
    "\n",
    "tindar_problem = tindar.TindarGenerator(\n",
    "    n, connectedness, nan_probability=None\n",
    ")\n",
    "love_matrix = tindar_problem.love_matrix\n",
    "love_matrix"
   ]
  },
  {
   "cell_type": "code",
   "execution_count": 3,
   "metadata": {},
   "outputs": [
    {
     "data": {
      "text/plain": [
       "array([[False, False, False,  True,  True,  True, False,  True, False,\n",
       "        False],\n",
       "       [False,  True, False, False, False, False, False,  True, False,\n",
       "        False],\n",
       "       [False, False, False, False, False,  True, False, False, False,\n",
       "        False],\n",
       "       [False, False, False, False, False,  True, False, False,  True,\n",
       "        False],\n",
       "       [ True,  True, False,  True,  True,  True,  True,  True,  True,\n",
       "        False],\n",
       "       [False, False, False,  True,  True,  True,  True, False, False,\n",
       "         True],\n",
       "       [False,  True, False,  True, False, False,  True,  True,  True,\n",
       "         True],\n",
       "       [False, False,  True, False,  True,  True,  True, False, False,\n",
       "        False],\n",
       "       [ True, False, False,  True, False,  True, False, False,  True,\n",
       "         True],\n",
       "       [False, False,  True,  True, False, False,  True,  True, False,\n",
       "        False]])"
      ]
     },
     "execution_count": 3,
     "metadata": {},
     "output_type": "execute_result"
    }
   ],
   "source": [
    "nan_probability = 0.3\n",
    "nan_indicator = np.random.binomial(\n",
    "    n=1, p=nan_probability, size=love_matrix.shape,\n",
    ").astype(bool)\n",
    "nan_indicator"
   ]
  },
  {
   "cell_type": "code",
   "execution_count": 4,
   "metadata": {},
   "outputs": [
    {
     "data": {
      "text/plain": [
       "array([[ 0.,  0.,  0., nan, nan, nan,  0., nan,  0.,  0.],\n",
       "       [ 0., nan,  0.,  0.,  1.,  0.,  1., nan,  0.,  0.],\n",
       "       [ 1.,  0.,  0.,  0.,  0., nan,  0.,  1.,  1.,  0.],\n",
       "       [ 1.,  0.,  0.,  0.,  0., nan,  1.,  0., nan,  0.],\n",
       "       [nan, nan,  0., nan, nan, nan, nan, nan, nan,  0.],\n",
       "       [ 1.,  0.,  0., nan, nan, nan, nan,  0.,  0., nan],\n",
       "       [ 0., nan,  1., nan,  0.,  1., nan, nan, nan, nan],\n",
       "       [ 0.,  0., nan,  0., nan, nan, nan,  0.,  0.,  0.],\n",
       "       [nan,  1.,  0., nan,  0., nan,  0.,  1., nan, nan],\n",
       "       [ 0.,  0., nan, nan,  0.,  1., nan, nan,  1.,  0.]])"
      ]
     },
     "execution_count": 4,
     "metadata": {},
     "output_type": "execute_result"
    }
   ],
   "source": [
    "love_matrix[nan_indicator] = np.nan\n",
    "love_matrix"
   ]
  },
  {
   "cell_type": "markdown",
   "metadata": {},
   "source": [
    "## After implementing this functionality in src code, we check:"
   ]
  },
  {
   "cell_type": "code",
   "execution_count": 5,
   "metadata": {},
   "outputs": [
    {
     "data": {
      "text/plain": [
       "array([[ 0., nan, nan,  0.,  0.,  0.,  0., nan,  0., nan],\n",
       "       [ 1.,  0.,  0., nan,  0.,  0.,  0.,  0., nan, nan],\n",
       "       [nan,  0.,  0.,  1.,  0., nan,  1., nan,  0., nan],\n",
       "       [ 0.,  0.,  0.,  0.,  0.,  0.,  1., nan,  1.,  0.],\n",
       "       [ 0.,  0.,  1., nan,  0.,  1.,  0.,  0.,  0.,  1.],\n",
       "       [ 0., nan,  0.,  0., nan,  0., nan,  0., nan,  1.],\n",
       "       [ 0.,  0.,  0., nan,  0.,  0.,  0.,  0., nan,  0.],\n",
       "       [nan, nan,  0.,  1.,  1.,  0., nan,  0., nan,  1.],\n",
       "       [ 1.,  0.,  1.,  0.,  0.,  1.,  0.,  0.,  0.,  0.],\n",
       "       [nan,  0.,  1.,  0.,  1.,  0.,  0.,  0.,  0.,  0.]])"
      ]
     },
     "execution_count": 5,
     "metadata": {},
     "output_type": "execute_result"
    }
   ],
   "source": [
    "n = 10\n",
    "connectedness = 4\n",
    "nan_probability = 0.3\n",
    "\n",
    "tindar_problem_new = tindar.TindarGenerator(\n",
    "    n, connectedness, nan_probability\n",
    ")\n",
    "tindar_problem_new.love_matrix"
   ]
  },
  {
   "cell_type": "markdown",
   "metadata": {},
   "source": [
    "## Before we can match anyone, we must guess the missing values\n",
    "\n",
    "The current underlying model is a bernouilli model, which is not very interesting (or realistic, for that matter).\n",
    "See the next notebook for a more interesting love_matrix generation."
   ]
  },
  {
   "cell_type": "code",
   "execution_count": null,
   "metadata": {},
   "outputs": [],
   "source": []
  }
 ],
 "metadata": {
  "kernelspec": {
   "display_name": "Python 3",
   "language": "python",
   "name": "python3"
  },
  "language_info": {
   "codemirror_mode": {
    "name": "ipython",
    "version": 3
   },
   "file_extension": ".py",
   "mimetype": "text/x-python",
   "name": "python",
   "nbconvert_exporter": "python",
   "pygments_lexer": "ipython3",
   "version": "3.7.3"
  }
 },
 "nbformat": 4,
 "nbformat_minor": 4
}
